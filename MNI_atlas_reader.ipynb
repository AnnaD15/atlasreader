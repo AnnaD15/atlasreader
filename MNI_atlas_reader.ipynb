{
 "cells": [
  {
   "cell_type": "markdown",
   "metadata": {},
   "source": [
    "# MNI Atlas Reader\n",
    "\n",
    "A Python interface for generating coordinate tables and region labels from fMRI statistical images"
   ]
  },
  {
   "cell_type": "code",
   "execution_count": null,
   "metadata": {},
   "outputs": [],
   "source": [
    "import os\n",
    "import matplotlib.pyplot as plt\n",
    "from nilearn.datasets import fetch_neurovault_motor_task, fetch_neurovault_auditory_computation_task\n",
    "from nilearn import plotting\n",
    "import mni_atlas_reader\n"
   ]
  },
  {
   "cell_type": "markdown",
   "metadata": {},
   "source": [
    "## Example Stat Map"
   ]
  },
  {
   "cell_type": "code",
   "execution_count": null,
   "metadata": {},
   "outputs": [],
   "source": [
    "# get a stat map from neurovault using nilearn\n",
    "motor_images = fetch_neurovault_motor_task()\n",
    "stat_img = motor_images.images[0]\n",
    "\n",
    "# make an output folder in the directory of stat_img\n",
    "outpath = os.path.join(os.path.dirname(stat_img), 'clusters')\n",
    "\n",
    "\n",
    "plt.figure(figsize=(12, 10))\n",
    "plotting.plot_stat_map(stat_img, threshold=3, black_bg=True, vmax=10, title='Finger tapping task', cut_coords=[60, -19, 46])\n",
    "plt.show()"
   ]
  },
  {
   "cell_type": "markdown",
   "metadata": {},
   "source": [
    "## MNI Atlas Reader from the Command Line\n",
    "\n",
    "MNI Atlas Reader can be called from the command line."
   ]
  },
  {
   "cell_type": "code",
   "execution_count": null,
   "metadata": {},
   "outputs": [],
   "source": [
    "%%bash \n",
    "python mni_atlas_reader/atlas_reader.py -h "
   ]
  },
  {
   "cell_type": "code",
   "execution_count": null,
   "metadata": {},
   "outputs": [],
   "source": [
    "%%bash -s \"$stat_img\" \"$outpath\"\n",
    "python mni_atlas_reader/atlas_reader.py $1 -a Harvard_Oxford -t 5 -c 10 -p 33 -o $2"
   ]
  },
  {
   "cell_type": "code",
   "execution_count": null,
   "metadata": {},
   "outputs": [],
   "source": [
    "# read in main output file\n",
    "import pandas as pd\n",
    "\n",
    "df = pd.read_csv(os.path.join(outpath, 'image_10426.csv'))\n",
    "df.head(20)"
   ]
  },
  {
   "cell_type": "code",
   "execution_count": null,
   "metadata": {},
   "outputs": [],
   "source": [
    "# show a couple of the cluster images with the cross centered on the peak voxel\n",
    "\n",
    "plt.figure(figsize=(12, 10))\n",
    "cluster1 = plt.imread(os.path.join(outpath, 'image_10426_cluster01.png'))\n",
    "plt.imshow(cluster1)\n",
    "plt.show()"
   ]
  },
  {
   "cell_type": "code",
   "execution_count": null,
   "metadata": {},
   "outputs": [],
   "source": [
    "plt.figure(figsize=(12, 10))\n",
    "cluster2 = plt.imread(os.path.join(outpath, 'image_10426_cluster02.png'))\n",
    "plt.imshow(cluster2)\n",
    "plt.show()"
   ]
  },
  {
   "cell_type": "markdown",
   "metadata": {},
   "source": [
    "## Calling from Python\n",
    "\n",
    "You can also import the `create_output` function from the `atlas_reader` module itself, and run it directly from python. Note that in this example, another atlas (`aal`) is added."
   ]
  },
  {
   "cell_type": "code",
   "execution_count": null,
   "metadata": {},
   "outputs": [],
   "source": [
    "from mni_atlas_reader.atlas_reader import create_output\n",
    "\n",
    "create_output(stat_img, ['Harvard_Oxford', 'aal'], voxelThresh=3, clusterExtend=10, probabilityThreshold=33, outDir=outpath)"
   ]
  },
  {
   "cell_type": "code",
   "execution_count": null,
   "metadata": {},
   "outputs": [],
   "source": [
    "df = pd.read_csv(os.path.join(outpath, 'image_10426.csv'))\n",
    "df.head(20)"
   ]
  }
 ],
 "metadata": {
  "kernelspec": {
   "display_name": "Python 3",
   "language": "python",
   "name": "python3"
  },
  "language_info": {
   "codemirror_mode": {
    "name": "ipython",
    "version": 3
   },
   "file_extension": ".py",
   "mimetype": "text/x-python",
   "name": "python",
   "nbconvert_exporter": "python",
   "pygments_lexer": "ipython3",
   "version": "3.6.5"
  }
 },
 "nbformat": 4,
 "nbformat_minor": 2
}
